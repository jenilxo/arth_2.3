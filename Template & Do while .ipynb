{
 "cells": [
  {
   "cell_type": "markdown",
   "id": "2696a257",
   "metadata": {},
   "source": [
    "# Template In Python Using Class and Objects"
   ]
  },
  {
   "cell_type": "code",
   "execution_count": null,
   "id": "97c10dbe",
   "metadata": {},
   "outputs": [],
   "source": [
    "class Student:\n",
    "  def __init__(self, name, age): \n",
    "    \"\"\"it is automatically called when object is created, \n",
    "    so we can use it for passing arguments to create a template\"\"\"\n",
    "    self.name = name\n",
    "    self.age = age\n",
    "    print( \"Name of student is\",self.name, \"& Age of student is\" ,self.age)"
   ]
  },
  {
   "cell_type": "code",
   "execution_count": null,
   "id": "4bd79696",
   "metadata": {},
   "outputs": [],
   "source": [
    "p1 = Student(\"Lisa\", 20)"
   ]
  },
  {
   "cell_type": "code",
   "execution_count": null,
   "id": "b14b4c44",
   "metadata": {},
   "outputs": [],
   "source": [
    "p2 = Student(\"Jenil\", 19)"
   ]
  },
  {
   "cell_type": "code",
   "execution_count": null,
   "id": "2fc2e9cb",
   "metadata": {},
   "outputs": [],
   "source": [
    "p3 = "
   ]
  },
  {
   "cell_type": "markdown",
   "id": "595b1e1a",
   "metadata": {},
   "source": [
    "# Do While Loop In Python"
   ]
  },
  {
   "cell_type": "code",
   "execution_count": null,
   "id": "c5d5a906",
   "metadata": {},
   "outputs": [],
   "source": [
    "import random\n",
    "magic_number = random.randint(1,20)\n",
    "\n",
    "attempts = 0\n",
    "\n",
    "while attempts<5:\n",
    "       \n",
    "        print(\"Guess a number between 1 and 20:\")\n",
    "        guess = int(input())\n",
    "        attempts = attempts + 1\n",
    "        \n",
    "        if guess == magic_number:\n",
    "           break\n",
    "        \n",
    "print(\"You have guessed the magic number!\")\n",
    "           "
   ]
  },
  {
   "cell_type": "code",
   "execution_count": null,
   "id": "2f642cc1",
   "metadata": {},
   "outputs": [],
   "source": []
  }
 ],
 "metadata": {
  "kernelspec": {
   "display_name": "Python 3",
   "language": "python",
   "name": "python3"
  },
  "language_info": {
   "codemirror_mode": {
    "name": "ipython",
    "version": 3
   },
   "file_extension": ".py",
   "mimetype": "text/x-python",
   "name": "python",
   "nbconvert_exporter": "python",
   "pygments_lexer": "ipython3",
   "version": "3.8.8"
  }
 },
 "nbformat": 4,
 "nbformat_minor": 5
}
